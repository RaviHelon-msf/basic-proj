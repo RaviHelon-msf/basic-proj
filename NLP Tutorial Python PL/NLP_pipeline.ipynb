{
 "cells": [
  {
   "cell_type": "markdown",
   "metadata": {},
   "source": [
    "Tokenizer Exercise"
   ]
  },
  {
   "cell_type": "markdown",
   "metadata": {},
   "source": [
    "setup"
   ]
  },
  {
   "cell_type": "code",
   "execution_count": 3,
   "metadata": {},
   "outputs": [],
   "source": [
    "import spacy\n",
    "\n",
    "nlp = spacy.load('en_core_web_sm')\n",
    "\n",
    "text = '''\n",
    "Look for data to help you address the question. Governments are good\n",
    "sources because data from public research is often freely available.\n",
    "'''\n",
    "\n",
    "doc = nlp(text)"
   ]
  },
  {
   "cell_type": "code",
   "execution_count": 5,
   "metadata": {},
   "outputs": [
    {
     "data": {
      "text/plain": [
       "[('tok2vec', <spacy.pipeline.tok2vec.Tok2Vec at 0x7f355bf0f040>),\n",
       " ('tagger', <spacy.pipeline.tagger.Tagger at 0x7f355bf0f400>),\n",
       " ('parser', <spacy.pipeline.dep_parser.DependencyParser at 0x7f355bf05e70>),\n",
       " ('attribute_ruler',\n",
       "  <spacy.pipeline.attributeruler.AttributeRuler at 0x7f355bc4a980>),\n",
       " ('lemmatizer',\n",
       "  <spacy.lang.en.lemmatizer.EnglishLemmatizer at 0x7f355bc4bac0>),\n",
       " ('ner', <spacy.pipeline.ner.EntityRecognizer at 0x7f355bf05e00>)]"
      ]
     },
     "execution_count": 5,
     "metadata": {},
     "output_type": "execute_result"
    }
   ],
   "source": [
    "nlp.pipeline"
   ]
  },
  {
   "cell_type": "code",
   "execution_count": 6,
   "metadata": {},
   "outputs": [
    {
     "name": "stdout",
     "output_type": "stream",
     "text": [
      "\n",
      " | SPACE | \n",
      "\n",
      "Look | VERB | look\n",
      "for | ADP | for\n",
      "data | NOUN | datum\n",
      "to | PART | to\n",
      "help | VERB | help\n",
      "you | PRON | you\n",
      "address | VERB | address\n",
      "the | DET | the\n",
      "question | NOUN | question\n",
      ". | PUNCT | .\n",
      "Governments | NOUN | government\n",
      "are | AUX | be\n",
      "good | ADJ | good\n",
      "\n",
      " | SPACE | \n",
      "\n",
      "sources | NOUN | source\n",
      "because | SCONJ | because\n",
      "data | NOUN | datum\n",
      "from | ADP | from\n",
      "public | ADJ | public\n",
      "research | NOUN | research\n",
      "is | AUX | be\n",
      "often | ADV | often\n",
      "freely | ADV | freely\n",
      "available | ADJ | available\n",
      ". | PUNCT | .\n",
      "\n",
      " | SPACE | \n",
      "\n"
     ]
    }
   ],
   "source": [
    "for token in doc:\n",
    "    print(f\"{token} | {token.pos_} | {token.lemma_}\")"
   ]
  }
 ],
 "metadata": {
  "kernelspec": {
   "display_name": "Python 3",
   "language": "python",
   "name": "python3"
  },
  "language_info": {
   "codemirror_mode": {
    "name": "ipython",
    "version": 3
   },
   "file_extension": ".py",
   "mimetype": "text/x-python",
   "name": "python",
   "nbconvert_exporter": "python",
   "pygments_lexer": "ipython3",
   "version": "3.10.12"
  }
 },
 "nbformat": 4,
 "nbformat_minor": 2
}
