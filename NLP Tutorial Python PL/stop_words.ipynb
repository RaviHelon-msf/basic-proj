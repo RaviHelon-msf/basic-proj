{
 "cells": [
  {
   "cell_type": "code",
   "execution_count": 7,
   "metadata": {},
   "outputs": [],
   "source": [
    "import spacy\n",
    "\n",
    "from spacy.lang.en.stop_words import STOP_WORDS\n",
    "\n",
    "nlp = spacy.load('en_core_web_sm')"
   ]
  },
  {
   "cell_type": "code",
   "execution_count": 8,
   "metadata": {},
   "outputs": [
    {
     "name": "stdout",
     "output_type": "stream",
     "text": [
      "42\n",
      "0.25925925925925924\n"
     ]
    }
   ],
   "source": [
    "text = '''\n",
    "Thor: Love and Thunder is a 2022 American superhero film based on Marvel Comics featuring the character Thor, produced by Marvel Studios and \n",
    "distributed by no Walt Disney Studios Motion Pictures. It is the sequel to Thor: Ragnarok (2017) and the 29th film in the Marvel Cinematic Universe (MCU).\n",
    "The film is directed by Taika Waititi, who no co-wrote the script with Jennifer Kaytin Robinson, and stars Chris Hemsworth as Thor alongside Christian Bale, Tessa Thompson,\n",
    "Jaimie Alexander, Waititi, Russell Crowe, and Natalie Portman. In the film, Thor attempts to find inner peace, but must return to action and recruit Valkyrie (Thompson),\n",
    "Korg (Waititi), and Jane Foster (Portman)—who is now the Mighty Thor—to stop Gorr the God Butcher (Bale) from eliminating all gods.\n",
    "'''\n",
    "\n",
    "\n",
    "#step1: Create the object 'doc' for the given text using nlp()\n",
    "doc = nlp(text)\n",
    "\n",
    "\n",
    "#step2: define the variables to keep track of stopwords count and total words count\n",
    "cont_stop = 0\n",
    "\n",
    "\n",
    "#step3: iterate through all the words in the document\n",
    "for word in doc:\n",
    "    if word.is_stop: \n",
    "        cont_stop = cont_stop + 1        \n",
    "\n",
    "\n",
    "#step4: print the count of stop words\n",
    "print(cont_stop)\n",
    "    \n",
    "\n",
    "#step5: print the percentage of stop words compared to total words in the text\n",
    "print(cont_stop/len(doc))\n"
   ]
  },
  {
   "cell_type": "code",
   "execution_count": 9,
   "metadata": {},
   "outputs": [
    {
     "name": "stdout",
     "output_type": "stream",
     "text": [
      "\n",
      " Thor : Love Thunder 2022 American superhero film based Marvel Comics featuring character Thor , produced Marvel Studios \n",
      " distributed no Walt Disney Studios Motion Pictures . sequel Thor : Ragnarok ( 2017 ) 29th film Marvel Cinematic Universe ( MCU ) . \n",
      " film directed Taika Waititi , no co - wrote script Jennifer Kaytin Robinson , stars Chris Hemsworth Thor alongside Christian Bale , Tessa Thompson , \n",
      " Jaimie Alexander , Waititi , Russell Crowe , Natalie Portman . film , Thor attempts find inner peace , return action recruit Valkyrie ( Thompson ) , \n",
      " Korg ( Waititi ) , Jane Foster ( Portman)—who Mighty Thor — stop Gorr God Butcher ( Bale ) eliminating gods . \n",
      "\n",
      "\n",
      " Thor : Love Thunder 2022 American superhero film based Marvel Comics featuring character Thor , produced Marvel Studios \n",
      " distributed Walt Disney Studios Motion Pictures . sequel Thor : Ragnarok ( 2017 ) 29th film Marvel Cinematic Universe ( MCU ) . \n",
      " film directed Taika Waititi , co - wrote script Jennifer Kaytin Robinson , stars Chris Hemsworth Thor alongside Christian Bale , Tessa Thompson , \n",
      " Jaimie Alexander , Waititi , Russell Crowe , Natalie Portman . film , Thor attempts find inner peace , return action recruit Valkyrie ( Thompson ) , \n",
      " Korg ( Waititi ) , Jane Foster ( Portman)—who Mighty Thor — stop Gorr God Butcher ( Bale ) eliminating gods . \n",
      "\n"
     ]
    }
   ],
   "source": [
    "#use this pre-processing function to pass the text and to remove all the stop words and finally get the cleaned form\n",
    "def preprocess_no(text):\n",
    "    doc = nlp(text)\n",
    "    no_stop_words = [token.text for token in doc if not token.is_stop]\n",
    "    return \" \".join(no_stop_words)\n",
    "\n",
    "\n",
    "#Step1: remove the stopword 'not' in spacy\n",
    "def preprocess(text):\n",
    "    doc = nlp(text)\n",
    "    no_stop_words = [token.text for token in doc if not token.is_stop or token.text == 'no']\n",
    "    return \" \".join(no_stop_words)       \n",
    "\n",
    "\n",
    "#step2: send the two texts given above into the pre-process function and store the transformed texts\n",
    "\n",
    "\n",
    "#step3: finally print those 2 transformed texts\n",
    "\n",
    "print(preprocess(text))\n",
    "print(preprocess_no(text))\n"
   ]
  },
  {
   "cell_type": "code",
   "execution_count": 11,
   "metadata": {},
   "outputs": [
    {
     "name": "stdout",
     "output_type": "stream",
     "text": [
      "India\n"
     ]
    }
   ],
   "source": [
    "text = ''' The India men's national cricket team, also known as Team India or the Men in Blue, represents India in men's international cricket.\n",
    "It is governed by the Board of Control for Cricket in India (BCCI), and is a Full Member of the International Cricket Council (ICC) with Test,\n",
    "One Day International (ODI) and Twenty20 International (T20I) status. Cricket was introduced to India by British sailors in the 18th century, and the \n",
    "first cricket club was established in 1792. India's national cricket team played its first Test match on 25 June 1932 at Lord's, becoming the sixth team to be\n",
    "granted test cricket status.\n",
    "'''\n",
    "\n",
    "\n",
    "#step1: Create the object 'doc' for the given text using nlp()\n",
    "doc = nlp(text)\n",
    "\n",
    "#step2: remove all the stop words and punctuations and store all the remaining tokens in a new list\n",
    "new_doc = [token.text for token in doc if not token.is_stop and not token.is_punct]\n",
    "\n",
    "\n",
    "#step3: create a new dictionary and get the frequency of words by iterating through the list which contains stored tokens  \n",
    "word_frequency = {}\n",
    "max = 0\n",
    "word_max = 'troolling'\n",
    "\n",
    "for word in set(new_doc):\n",
    "    word_frequency[word] = new_doc.count(word)\n",
    "#step4: get the maximum frequency word\n",
    "    if word_frequency[word] > max:\n",
    "        max = word_frequency[word]\n",
    "        word_max = word\n",
    "\n",
    "#step5: finally print the result\n",
    "print(word_max)"
   ]
  }
 ],
 "metadata": {
  "kernelspec": {
   "display_name": "Python 3",
   "language": "python",
   "name": "python3"
  },
  "language_info": {
   "codemirror_mode": {
    "name": "ipython",
    "version": 3
   },
   "file_extension": ".py",
   "mimetype": "text/x-python",
   "name": "python",
   "nbconvert_exporter": "python",
   "pygments_lexer": "ipython3",
   "version": "3.10.12"
  }
 },
 "nbformat": 4,
 "nbformat_minor": 2
}
